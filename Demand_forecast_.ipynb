{
 "cells": [
  {
   "cell_type": "code",
   "execution_count": null,
   "id": "fac17889-0587-46fe-8574-c853b163ce04",
   "metadata": {},
   "outputs": [],
   "source": [
    "import pandas as pd\n",
    "import numpy as np\n",
    "import seaborn as sns\n",
    "import matplotlib.pyplot as plt\n",
    "from statsmodels.tsa.statespace.sarimax import SARIMAX\n",
    "from sklearn.metrics import mean_squared_error\n",
    "from sklearn.model_selection import train_test_split"
   ]
  },
  {
   "cell_type": "code",
   "execution_count": null,
   "id": "8c5176f7-1fb3-4790-8a5b-0312be272d3e",
   "metadata": {},
   "outputs": [],
   "source": [
    "from statsmodels.tsa.arima.model import ARIMA\n",
    "from statsmodels.graphics.tsaplots import plot_pacf,plot_acf \n",
    "from statsmodels.tsa.stattools import adfuller\n",
    "from statsmodels.tsa.seasonal import seasonal_decompose"
   ]
  },
  {
   "cell_type": "code",
   "execution_count": null,
   "id": "1df0d0cb-059d-4507-b194-a769d55c51a0",
   "metadata": {},
   "outputs": [],
   "source": [
    "# Load dataset\n",
    "data = pd.read_csv('C:/Users/Woodpecker/Downloads/sales_data_sample.csv',encoding='ISO-8859-1')"
   ]
  },
  {
   "cell_type": "code",
   "execution_count": null,
   "id": "5ebd7474-17f2-4130-a099-7a5a6edca034",
   "metadata": {},
   "outputs": [],
   "source": [
    "data.head()"
   ]
  },
  {
   "cell_type": "code",
   "execution_count": null,
   "id": "26754882-24ad-4436-9065-fd365988f20c",
   "metadata": {
    "scrolled": true
   },
   "outputs": [],
   "source": [
    "data.columns"
   ]
  },
  {
   "cell_type": "code",
   "execution_count": null,
   "id": "016dfd1a-7f13-4898-99c0-8a5cf674807f",
   "metadata": {},
   "outputs": [],
   "source": [
    "data.dtypes"
   ]
  },
  {
   "cell_type": "code",
   "execution_count": null,
   "id": "c2ecdaf3-17d1-405b-bb16-3ab2557943df",
   "metadata": {},
   "outputs": [],
   "source": [
    "data.size"
   ]
  },
  {
   "cell_type": "code",
   "execution_count": null,
   "id": "78074bd0-c528-4b5f-bac1-49f7c593ff1e",
   "metadata": {},
   "outputs": [],
   "source": [
    "\n",
    "# Convert 'ORDERDATE' to datetime\n",
    "data['ORDERDATE'] = pd.to_datetime(data['ORDERDATE'])\n",
    "\n",
    "# Sort by date\n",
    "data.sort_values('ORDERDATE', inplace=True)\n"
   ]
  },
  {
   "cell_type": "code",
   "execution_count": null,
   "id": "ee1e4151-8527-4ed9-8025-6c3431832288",
   "metadata": {},
   "outputs": [],
   "source": [
    "data.describe()"
   ]
  },
  {
   "cell_type": "code",
   "execution_count": null,
   "id": "1e98061d-c07b-4dfe-ad4c-2b316fdadc6a",
   "metadata": {},
   "outputs": [],
   "source": [
    "data.set_index('ORDERDATE' , inplace=True)"
   ]
  },
  {
   "cell_type": "code",
   "execution_count": null,
   "id": "d2e50409-dfed-4111-9492-def030219238",
   "metadata": {},
   "outputs": [],
   "source": [
    "data"
   ]
  },
  {
   "cell_type": "code",
   "execution_count": null,
   "id": "188e7bb0-a148-49d0-b373-5e63391a4509",
   "metadata": {
    "scrolled": true
   },
   "outputs": [],
   "source": [
    "plt.figure(figsize=(30,15))\n",
    "sns.lineplot(data=data , x='ORDERDATE',y='QUANTITYORDERED')\n",
    "plt.xlabel('Date')\n",
    "plt.ylabel('QUANTITYORDERED')\n",
    "plt.title('series plot')\n",
    "plt.show()"
   ]
  },
  {
   "cell_type": "code",
   "execution_count": null,
   "id": "8e215ae7-22d6-45dd-a914-5c25f4f9bc32",
   "metadata": {},
   "outputs": [],
   "source": [
    "# Select only numeric columns\n",
    "numeric_data = data.select_dtypes(include=['number'])\n",
    "\n",
    "# Compute correlation matrix\n",
    "correlation_matrix = numeric_data.corr()\n",
    "\n",
    "# Plot heatmap\n",
    "plt.figure(figsize=(12, 8))\n",
    "sns.heatmap(correlation_matrix, annot=True, cmap='coolwarm', fmt=\".2f\", linewidths=0.5)\n",
    "plt.title(\"Correlation Matrix of Numeric Variables\")\n",
    "plt.show()"
   ]
  },
  {
   "cell_type": "code",
   "execution_count": null,
   "id": "08937403-1a67-471b-a000-16a70834a6d3",
   "metadata": {},
   "outputs": [],
   "source": [
    "def testing_stationarity(df):\n",
    "    result= adfuller(df)\n",
    "    print(f\"ADF STAT:{result[0]}\")\n",
    "    print(f\"P-value :{result[1]}\")\n",
    "    if result[1] < 0.05:\n",
    "        print(\"Data is stationary\")\n",
    "    else:\n",
    "        print(\"Data is not stationary\")\n",
    "\n",
    "testing_stationarity(data['QUANTITYORDERED'])"
   ]
  },
  {
   "cell_type": "code",
   "execution_count": null,
   "id": "1ee1932e-8f36-4e8b-a0f6-52cc229c609f",
   "metadata": {},
   "outputs": [],
   "source": [
    "\n",
    "\n",
    "# Aggregate demand by date\n",
    "daily_demand = data.groupby('ORDERDATE')[['QUANTITYORDERED', 'SALES']].sum().reset_index()\n",
    "\n",
    "# Feature engineering\n",
    "daily_demand['year'] = daily_demand['ORDERDATE'].dt.year\n",
    "daily_demand['month'] = daily_demand['ORDERDATE'].dt.month\n",
    "daily_demand['day'] = daily_demand['ORDERDATE'].dt.day\n",
    "daily_demand['dayofweek'] = daily_demand['ORDERDATE'].dt.dayofweek\n"
   ]
  },
  {
   "cell_type": "code",
   "execution_count": null,
   "id": "7b119c41-7550-4e06-9c17-5de8120bdece",
   "metadata": {
    "scrolled": true
   },
   "outputs": [],
   "source": [
    "daily_demand.head()"
   ]
  },
  {
   "cell_type": "code",
   "execution_count": null,
   "id": "9f11094a-fc99-4cb8-9aa4-e0b8bad213be",
   "metadata": {},
   "outputs": [],
   "source": [
    "daily_demand.set_index('ORDERDATE', inplace=True)\n",
    "daily_demand"
   ]
  },
  {
   "cell_type": "code",
   "execution_count": null,
   "id": "dd4d0aab-a583-4219-a7c7-1b3740d29f91",
   "metadata": {},
   "outputs": [],
   "source": [
    "# Decompose using a period of 3 (quarterly seasonality)\n",
    "decomposition = seasonal_decompose(daily_demand['QUANTITYORDERED'], model='additive', period=12)\n",
    "\n",
    "plt.figure(figsize=(12, 10))\n",
    "\n",
    "# Original Series\n",
    "plt.subplot(4, 1, 1)\n",
    "plt.plot(daily_demand['QUANTITYORDERED'], label=\"Original\", color='blue')\n",
    "plt.title(\"Original Series\")\n",
    "plt.legend()\n",
    "\n",
    "# Trend Component\n",
    "plt.subplot(4, 1, 2)\n",
    "plt.plot(decomposition.trend, label=\"Trend\", color='red')\n",
    "plt.title(\"Trend Component\")\n",
    "plt.legend()\n",
    "\n",
    "# Seasonal Component\n",
    "plt.subplot(4, 1, 3)\n",
    "plt.plot(decomposition.seasonal, label=\"Seasonal\", color='green')\n",
    "plt.title(\"Seasonal Component\")\n",
    "plt.legend()\n",
    "\n",
    "# Residual Component\n",
    "plt.subplot(4, 1, 4)\n",
    "plt.plot(decomposition.resid, label=\"Residual\", color='purple')\n",
    "plt.title(\"Residual Component\")\n",
    "plt.legend()\n",
    "\n",
    "plt.tight_layout()\n",
    "plt.show()"
   ]
  },
  {
   "cell_type": "code",
   "execution_count": null,
   "id": "c47fa5e0-5829-4a8c-a913-b7165ea84413",
   "metadata": {},
   "outputs": [],
   "source": [
    "# Create lag features (Previous demand values as exogenous variables)\n",
    "for lag in range(1, 8):\n",
    "  daily_demand[f'lag_{lag}'] = daily_demand['QUANTITYORDERED'].shift(lag)\n"
   ]
  },
  {
   "cell_type": "code",
   "execution_count": null,
   "id": "29a385ee-3681-4d4e-8d54-3eade4f97475",
   "metadata": {},
   "outputs": [],
   "source": [
    "daily_demand"
   ]
  },
  {
   "cell_type": "code",
   "execution_count": null,
   "id": "57d5622b-6c72-4e69-8592-946b0a204b00",
   "metadata": {},
   "outputs": [],
   "source": [
    "# Drop rows with missing values due to lagging\n",
    "daily_demand.dropna(inplace=True)\n",
    "daily_demand"
   ]
  },
  {
   "cell_type": "code",
   "execution_count": null,
   "id": "b15e23f5-7469-455a-9a0b-63a2d30fd7b4",
   "metadata": {},
   "outputs": [],
   "source": [
    "\n",
    "# Define features (Exogenous) and target (Endogenous)\n",
    "X = daily_demand[['SALES'] + [f'lag_{lag}' for lag in range(1, 8)]]\n",
    "y = daily_demand['QUANTITYORDERED']\n",
    "\n",
    "# Split data into training and test sets (Time-based split, no shuffle)\n",
    "X_train, X_test, y_train, y_test = train_test_split(X, y, test_size=0.2, shuffle=False)\n"
   ]
  },
  {
   "cell_type": "code",
   "execution_count": null,
   "id": "f0c43f76-3798-419c-97f0-fe41c4920a60",
   "metadata": {},
   "outputs": [],
   "source": [
    "len(y_train)"
   ]
  },
  {
   "cell_type": "code",
   "execution_count": null,
   "id": "dd46d6f8-b543-4b1e-805e-33fb0cfff645",
   "metadata": {
    "scrolled": true
   },
   "outputs": [],
   "source": [
    "# Fit the ARIMAX model\n",
    "model = SARIMAX(y_train, exog=X_train, order=(5, 1, 5), seasonal_order=(1, 1, 1, 12))\n",
    "arimax_result = model.fit(disp=False)\n",
    "\n",
    "# Make predictions\n",
    "y_pred = arimax_result.predict(start=len(y_train), end=len(y_train) + len(y_test) - 1, exog=X_test)\n",
    "\n",
    "# Evaluate the model\n",
    "mse = mean_squared_error(y_test, y_pred)\n",
    "print(f'Mean Squared Error (ARIMAX): {mse}')\n",
    "\n",
    "rmse = np.sqrt(mean_squared_error(y_test, y_pred))\n",
    "print(f'Root Mean Squared Error (ARIMAX): {rmse}')"
   ]
  },
  {
   "cell_type": "code",
   "execution_count": null,
   "id": "3390d159-2d16-47c3-a494-c6e6e1943bbe",
   "metadata": {},
   "outputs": [],
   "source": [
    "# Plot actual vs predicted values\n",
    "plt.figure(figsize=(10, 5))\n",
    "plt.plot(y_test.index, y_test, label=\"Actual\", color=\"blue\", marker='o')\n",
    "plt.plot(y_test.index, y_pred, label=\"Predicted\", color=\"red\", linestyle=\"dashed\", marker='x')\n",
    "\n",
    "plt.xlabel(\"Time\")\n",
    "plt.ylabel(\"Values\")\n",
    "plt.title(\"Actual vs Predicted (ARIMAX)\")\n",
    "plt.legend()\n",
    "plt.grid()\n",
    "plt.show()"
   ]
  },
  {
   "cell_type": "code",
   "execution_count": null,
   "id": "8c68d2ce-4561-4e73-8b72-b4e521f9ee50",
   "metadata": {},
   "outputs": [],
   "source": []
  },
  {
   "cell_type": "code",
   "execution_count": null,
   "id": "73bf17a7-7b2b-49ae-b86d-79e6bf8e8882",
   "metadata": {},
   "outputs": [],
   "source": []
  },
  {
   "cell_type": "code",
   "execution_count": null,
   "id": "2a59232e-daac-42b6-b589-7e81290f06e2",
   "metadata": {},
   "outputs": [],
   "source": []
  },
  {
   "cell_type": "code",
   "execution_count": null,
   "id": "774a2aba-9d9a-4fb4-9790-41c540a03c65",
   "metadata": {},
   "outputs": [],
   "source": []
  },
  {
   "cell_type": "code",
   "execution_count": null,
   "id": "7a916792-25b8-4d21-846f-d46f7cbc23dc",
   "metadata": {},
   "outputs": [],
   "source": []
  },
  {
   "cell_type": "code",
   "execution_count": null,
   "id": "964c0922-dc22-4fcd-9a08-22afa2520583",
   "metadata": {},
   "outputs": [],
   "source": []
  },
  {
   "cell_type": "code",
   "execution_count": null,
   "id": "76f95db4-8d01-4598-aa63-6c07377d6ae3",
   "metadata": {},
   "outputs": [],
   "source": []
  },
  {
   "cell_type": "code",
   "execution_count": null,
   "id": "757643fe-558b-4a5b-bd92-de8471d88fed",
   "metadata": {},
   "outputs": [],
   "source": []
  }
 ],
 "metadata": {
  "kernelspec": {
   "display_name": "Python [conda env:base] *",
   "language": "python",
   "name": "conda-base-py"
  },
  "language_info": {
   "codemirror_mode": {
    "name": "ipython",
    "version": 3
   },
   "file_extension": ".py",
   "mimetype": "text/x-python",
   "name": "python",
   "nbconvert_exporter": "python",
   "pygments_lexer": "ipython3",
   "version": "3.12.7"
  }
 },
 "nbformat": 4,
 "nbformat_minor": 5
}
